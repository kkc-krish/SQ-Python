{
  "cells": [
    {
      "cell_type": "markdown",
      "metadata": {
        "id": "jva1NE0a0f-e"
      },
      "source": [
        "![scikit-learn algorithm map](https://github.com/justmarkham/scikit-learn-videos/raw/84f03ae1d048482471f2a9ca85b0c649730cc269/images/02_sklearn_algorithms.png)"
      ]
    },
    {
      "cell_type": "markdown",
      "metadata": {
        "id": "m4Uk6lAx0f-e"
      },
      "source": [
        "## Benefits and drawbacks of scikit-learn\n",
        "\n",
        "### Benefits:\n",
        "\n",
        "- **Consistent interface** to machine learning models\n",
        "- Provides many **tuning parameters** but with **sensible defaults**\n",
        "- Exceptional **documentation**\n",
        "- Rich set of functionality for **companion tasks**\n",
        "- **Active community** for development and support\n",
        "\n",
        "### Potential drawbacks:\n",
        "\n",
        "- Harder (than R) to **get started with machine learning**\n",
        "- Less emphasis (than R) on **model interpretability**\n",
        "\n"
      ]
    },
    {
      "cell_type": "markdown",
      "metadata": {
        "id": "6S5iEbAq0f-f"
      },
      "source": [
        "![scikit-learn logo](https://github.com/justmarkham/scikit-learn-videos/raw/84f03ae1d048482471f2a9ca85b0c649730cc269/images/02_sklearn_logo.png)"
      ]
    },
    {
      "cell_type": "markdown",
      "metadata": {
        "id": "rQB5sxvf0f-f"
      },
      "source": [
        "## Installing scikit-learn\n",
        "\n",
        "**Option 1:** [Install scikit-learn library](http://scikit-learn.org/stable/install.html) and dependencies (NumPy and SciPy)\n",
        "\n",
        "**Option 2:** [Install Anaconda distribution](https://www.continuum.io/downloads) of Python, which includes:\n",
        "\n",
        "- Hundreds of useful packages (including scikit-learn)\n",
        "- Jupyter Notebook\n",
        "- conda package manager\n",
        "- Spyder IDE"
      ]
    },
    {
      "cell_type": "markdown",
      "metadata": {
        "id": "CK5N2gb20f-f"
      },
      "source": [
        "![IPython header](https://cdn-images-1.medium.com/max/1600/1*LPnY8nOLg4S6_TG0DEXwsg.png)"
      ]
    },
    {
      "cell_type": "markdown",
      "metadata": {
        "id": "SHbxgnPo0f-f"
      },
      "source": [
        "## Using the Jupyter Notebook\n",
        "\n",
        "### Components:\n",
        "\n",
        "- **Jupyter interpreter:** enhanced version of the standard Python interpreter\n",
        "- **Browser-based notebook interface:** weave together code, formatted text, and plots\n",
        "\n",
        "### Installation:\n",
        "\n",
        "- **Option 1:** Install [Jupyter](http://Jupyter.org/install.html) and the [notebook](https://jupyter.readthedocs.io/en/latest/install.html)\n",
        "- **Option 2:** Included with the Anaconda distribution\n",
        "\n",
        "### Launching the Notebook:\n",
        "\n",
        "- Type **Jupyter notebook** at the command line to open the dashboard\n",
        "- Don't close the command line window while the Notebook is running\n",
        "\n",
        "### Keyboard shortcuts:\n",
        "\n",
        "**Command mode** (gray border)\n",
        "\n",
        "- Create new cells above (**a**) or below (**b**) the current cell\n",
        "- Navigate using the **up arrow** and **down arrow**\n",
        "- Convert the cell type to Markdown (**m**) or code (**y**)\n",
        "- See keyboard shortcuts using **h**\n",
        "- Switch to Edit mode using **Enter**\n",
        "\n",
        "**Edit mode** (green border)\n",
        "\n",
        "- **Ctrl+Enter** to run a cell\n",
        "- Switch to Command mode using **Esc**\n",
        "\n",
        "### Jupyter and Markdown resources:\n",
        "\n",
        "- [nbviewer](http://nbviewer.jupyter.org/): view notebooks online as static documents\n",
        "- [Jupyter documentation](http://jupyter.readthedocs.io/en/latest/): focuses on the interpreter\n",
        "- [Jupyter Notebook tutorials](http://jupyter.readthedocs.io/en/latest/content-quickstart.html): in-depth introduction\n",
        "- [GitHub's Mastering Markdown](https://guides.github.com/features/mastering-markdown/): short guide with lots of examples"
      ]
    }
  ],
  "metadata": {
    "kernelspec": {
      "display_name": "Python 3",
      "language": "python",
      "name": "python3"
    },
    "language_info": {
      "codemirror_mode": {
        "name": "ipython",
        "version": 3
      },
      "file_extension": ".py",
      "mimetype": "text/x-python",
      "name": "python",
      "nbconvert_exporter": "python",
      "pygments_lexer": "ipython3",
      "version": "3.6.4"
    },
    "colab": {
      "provenance": []
    }
  },
  "nbformat": 4,
  "nbformat_minor": 0
}